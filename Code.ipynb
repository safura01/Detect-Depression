{
  "nbformat": 4,
  "nbformat_minor": 0,
  "metadata": {
    "kernelspec": {
      "display_name": "Python 3",
      "language": "python",
      "name": "python3"
    },
    "language_info": {
      "codemirror_mode": {
        "name": "ipython",
        "version": 3
      },
      "file_extension": ".py",
      "mimetype": "text/x-python",
      "name": "python",
      "nbconvert_exporter": "python",
      "pygments_lexer": "ipython3",
      "version": "3.7.6"
    },
    "colab": {
      "name": "Code.ipynb",
      "provenance": []
    }
  },
  "cells": [
    {
      "cell_type": "markdown",
      "metadata": {
        "id": "qyoT_l78o4sr"
      },
      "source": [
        "##**Data Preprocessing**"
      ]
    },
    {
      "cell_type": "code",
      "metadata": {
        "id": "vXq5tyHYox3q",
        "outputId": "d360b37e-ca3d-4756-bec9-2c74df65dd44"
      },
      "source": [
        "#Importing Packages\n",
        "import pandas as pd       #Useful for importing, manipulating, selection, cleaning data \n",
        "data_pd = pd.read_csv(r\"C:\\Users\\Safura\\Downloads\\b_depressed.csv\")  #Reading dataset from PC.\n",
        "data_pd.head()"
      ],
      "execution_count": null,
      "outputs": [
        {
          "output_type": "execute_result",
          "data": {
            "text/html": [
              "<div>\n",
              "<style scoped>\n",
              "    .dataframe tbody tr th:only-of-type {\n",
              "        vertical-align: middle;\n",
              "    }\n",
              "\n",
              "    .dataframe tbody tr th {\n",
              "        vertical-align: top;\n",
              "    }\n",
              "\n",
              "    .dataframe thead th {\n",
              "        text-align: right;\n",
              "    }\n",
              "</style>\n",
              "<table border=\"1\" class=\"dataframe\">\n",
              "  <thead>\n",
              "    <tr style=\"text-align: right;\">\n",
              "      <th></th>\n",
              "      <th>Survey_id</th>\n",
              "      <th>Sex</th>\n",
              "      <th>Age</th>\n",
              "      <th>Married</th>\n",
              "      <th>Number_children</th>\n",
              "      <th>Education_level</th>\n",
              "      <th>Living_expenses</th>\n",
              "      <th>Other_expenses</th>\n",
              "      <th>Incoming_salary</th>\n",
              "      <th>Labor_primary</th>\n",
              "      <th>Lasting_investment</th>\n",
              "      <th>No_lasting_investment</th>\n",
              "      <th>Depressed</th>\n",
              "    </tr>\n",
              "  </thead>\n",
              "  <tbody>\n",
              "    <tr>\n",
              "      <th>0</th>\n",
              "      <td>926</td>\n",
              "      <td>1</td>\n",
              "      <td>28</td>\n",
              "      <td>1</td>\n",
              "      <td>4</td>\n",
              "      <td>10</td>\n",
              "      <td>26692283</td>\n",
              "      <td>28203066</td>\n",
              "      <td>0</td>\n",
              "      <td>0</td>\n",
              "      <td>28411718</td>\n",
              "      <td>28292707.0</td>\n",
              "      <td>0</td>\n",
              "    </tr>\n",
              "    <tr>\n",
              "      <th>1</th>\n",
              "      <td>747</td>\n",
              "      <td>1</td>\n",
              "      <td>23</td>\n",
              "      <td>1</td>\n",
              "      <td>3</td>\n",
              "      <td>8</td>\n",
              "      <td>26692283</td>\n",
              "      <td>28203066</td>\n",
              "      <td>0</td>\n",
              "      <td>0</td>\n",
              "      <td>28411718</td>\n",
              "      <td>28292707.0</td>\n",
              "      <td>1</td>\n",
              "    </tr>\n",
              "    <tr>\n",
              "      <th>2</th>\n",
              "      <td>1190</td>\n",
              "      <td>1</td>\n",
              "      <td>22</td>\n",
              "      <td>1</td>\n",
              "      <td>3</td>\n",
              "      <td>9</td>\n",
              "      <td>26692283</td>\n",
              "      <td>28203066</td>\n",
              "      <td>0</td>\n",
              "      <td>0</td>\n",
              "      <td>28411718</td>\n",
              "      <td>28292707.0</td>\n",
              "      <td>0</td>\n",
              "    </tr>\n",
              "    <tr>\n",
              "      <th>3</th>\n",
              "      <td>1065</td>\n",
              "      <td>1</td>\n",
              "      <td>27</td>\n",
              "      <td>1</td>\n",
              "      <td>2</td>\n",
              "      <td>10</td>\n",
              "      <td>397715</td>\n",
              "      <td>44042267</td>\n",
              "      <td>0</td>\n",
              "      <td>0</td>\n",
              "      <td>7781123</td>\n",
              "      <td>69219765.0</td>\n",
              "      <td>0</td>\n",
              "    </tr>\n",
              "    <tr>\n",
              "      <th>4</th>\n",
              "      <td>806</td>\n",
              "      <td>0</td>\n",
              "      <td>59</td>\n",
              "      <td>0</td>\n",
              "      <td>4</td>\n",
              "      <td>10</td>\n",
              "      <td>80877619</td>\n",
              "      <td>74503502</td>\n",
              "      <td>1</td>\n",
              "      <td>1</td>\n",
              "      <td>20100562</td>\n",
              "      <td>43419447.0</td>\n",
              "      <td>0</td>\n",
              "    </tr>\n",
              "  </tbody>\n",
              "</table>\n",
              "</div>"
            ],
            "text/plain": [
              "   Survey_id  Sex  Age  Married  Number_children  Education_level  \\\n",
              "0        926    1   28        1                4               10   \n",
              "1        747    1   23        1                3                8   \n",
              "2       1190    1   22        1                3                9   \n",
              "3       1065    1   27        1                2               10   \n",
              "4        806    0   59        0                4               10   \n",
              "\n",
              "   Living_expenses  Other_expenses  Incoming_salary  Labor_primary  \\\n",
              "0         26692283        28203066                0              0   \n",
              "1         26692283        28203066                0              0   \n",
              "2         26692283        28203066                0              0   \n",
              "3           397715        44042267                0              0   \n",
              "4         80877619        74503502                1              1   \n",
              "\n",
              "   Lasting_investment  No_lasting_investment  Depressed  \n",
              "0            28411718             28292707.0          0  \n",
              "1            28411718             28292707.0          1  \n",
              "2            28411718             28292707.0          0  \n",
              "3             7781123             69219765.0          0  \n",
              "4            20100562             43419447.0          0  "
            ]
          },
          "metadata": {
            "tags": []
          },
          "execution_count": 1
        }
      ]
    },
    {
      "cell_type": "code",
      "metadata": {
        "id": "AD2zvtQfox3s",
        "outputId": "5fa32130-168f-47aa-e8b7-822ae61099a5"
      },
      "source": [
        "data_pd.dtypes            #Datatype of each attribute"
      ],
      "execution_count": null,
      "outputs": [
        {
          "output_type": "execute_result",
          "data": {
            "text/plain": [
              "Survey_id                  int64\n",
              "Sex                        int64\n",
              "Age                        int64\n",
              "Married                    int64\n",
              "Number_children            int64\n",
              "Education_level            int64\n",
              "Living_expenses            int64\n",
              "Other_expenses             int64\n",
              "Incoming_salary            int64\n",
              "Labor_primary              int64\n",
              "Lasting_investment         int64\n",
              "No_lasting_investment    float64\n",
              "Depressed                  int64\n",
              "dtype: object"
            ]
          },
          "metadata": {
            "tags": []
          },
          "execution_count": 2
        }
      ]
    },
    {
      "cell_type": "code",
      "metadata": {
        "id": "Kqef-_D2ox3t",
        "outputId": "21f67029-fad0-4d93-b798-0db018e6ea5f"
      },
      "source": [
        "data_pd.columns            #Colummns"
      ],
      "execution_count": null,
      "outputs": [
        {
          "output_type": "execute_result",
          "data": {
            "text/plain": [
              "Index(['Survey_id', 'Sex', 'Age', 'Married', 'Number_children',\n",
              "       'Education_level', 'Living_expenses', 'Other_expenses',\n",
              "       'Incoming_salary', 'Labor_primary', 'Lasting_investment',\n",
              "       'No_lasting_investment', 'Depressed'],\n",
              "      dtype='object')"
            ]
          },
          "metadata": {
            "tags": []
          },
          "execution_count": 3
        }
      ]
    },
    {
      "cell_type": "code",
      "metadata": {
        "id": "sCumQmbjox3t",
        "outputId": "5137ec87-31cc-4221-9ce3-b48db42075b6"
      },
      "source": [
        "data_pd.groupby('Depressed').size()      #Number of depressed and not depressed people in dataset in INTEGER"
      ],
      "execution_count": null,
      "outputs": [
        {
          "output_type": "execute_result",
          "data": {
            "text/plain": [
              "Depressed\n",
              "0    1191\n",
              "1     238\n",
              "dtype: int64"
            ]
          },
          "metadata": {
            "tags": []
          },
          "execution_count": 4
        }
      ]
    },
    {
      "cell_type": "code",
      "metadata": {
        "id": "Q4tfyF9Yox3t",
        "outputId": "e0a779d9-74a7-41b8-af5a-6b8257155c24"
      },
      "source": [
        "fp = data_pd.groupby('Depressed').size()/data_pd.shape[0]  #Converted to float\n",
        "print(fp)"
      ],
      "execution_count": null,
      "outputs": [
        {
          "output_type": "stream",
          "text": [
            "Depressed\n",
            "0    0.83345\n",
            "1    0.16655\n",
            "dtype: float64\n"
          ],
          "name": "stdout"
        }
      ]
    },
    {
      "cell_type": "code",
      "metadata": {
        "id": "2wM1o8_Mox3u",
        "outputId": "d977ff80-a191-4b09-a8ea-4e2c44d7d6be"
      },
      "source": [
        "data_pd.mean(axis=0)       #Mean computed"
      ],
      "execution_count": null,
      "outputs": [
        {
          "output_type": "execute_result",
          "data": {
            "text/plain": [
              "Survey_id                7.150000e+02\n",
              "Sex                      9.181246e-01\n",
              "Age                      3.477747e+01\n",
              "Married                  7.725682e-01\n",
              "Number_children          2.883135e+00\n",
              "Education_level          8.687194e+00\n",
              "Living_expenses          3.248257e+07\n",
              "Other_expenses           3.366632e+07\n",
              "Incoming_salary          1.798460e-01\n",
              "Labor_primary            2.134360e-01\n",
              "Lasting_investment       3.299222e+07\n",
              "No_lasting_investment    3.360385e+07\n",
              "Depressed                1.665500e-01\n",
              "dtype: float64"
            ]
          },
          "metadata": {
            "tags": []
          },
          "execution_count": 6
        }
      ]
    },
    {
      "cell_type": "code",
      "metadata": {
        "id": "_jDQcc5Hox3u",
        "outputId": "3d04b7a0-125a-4fec-ea42-7aea57a83ec9"
      },
      "source": [
        "#Plot of dataset \n",
        "#Import package\n",
        "import matplotlib.pyplot as plt         #Useful for graphs, plots\n",
        "\n",
        "plt.matshow(data_pd.corr())\n",
        "plt.show()\n",
        "\n",
        "f = plt.figure(figsize=(19, 15))\n",
        "plt.matshow(data_pd.corr(), fignum=f.number)\n",
        "plt.xticks(range(data_pd.shape[1]), data_pd.columns, fontsize=14, rotation=45)\n",
        "plt.yticks(range(data_pd.shape[1]), data_pd.columns, fontsize=14)\n",
        "cb = plt.colorbar()\n",
        "cb.ax.tick_params(labelsize=14)\n",
        "plt.title('C',fontsize=16);"
      ],
      "execution_count": null,
      "outputs": [
        {
          "output_type": "display_data",
          "data": {
            "image/png": "[encoded data removed]",
            "text/plain": [
              "<Figure size 288x288 with 1 Axes>"
            ]
          },
          "metadata": {
            "tags": [],
            "needs_background": "light"
          }
        },
        {
          "output_type": "display_data",
          "data": {
            "image/png": "[encoded data removed]",
            "text/plain": [
              "<Figure size 1368x1080 with 2 Axes>"
            ]
          },
          "metadata": {
            "tags": [],
            "needs_background": "light"
          }
        }
      ]
    },
    {
      "cell_type": "markdown",
      "metadata": {
        "id": "dZhwO5R3pJV9"
      },
      "source": [
        "## **Data Description**"
      ]
    },
    {
      "cell_type": "code",
      "metadata": {
        "id": "3yKuRo6Iox3u",
        "outputId": "e0a39cd6-47e0-40fb-aae6-fec19a44d719"
      },
      "source": [
        "hist = data_pd['Age'].hist()              #Distribution of depressed adults according to age."
      ],
      "execution_count": null,
      "outputs": [
        {
          "output_type": "display_data",
          "data": {
            "image/png": "[encoded data removed]",
            "text/plain": [
              "<Figure size 432x288 with 1 Axes>"
            ]
          },
          "metadata": {
            "tags": [],
            "needs_background": "light"
          }
        }
      ]
    },
    {
      "cell_type": "code",
      "metadata": {
        "id": "aESd4ewMox3v",
        "outputId": "de8283b9-aba4-4504-d4a5-ccc6caf2c96b"
      },
      "source": [
        "#% matplotlib inline\n",
        "import seaborn as sns\n",
        "sns.set() \n",
        "sns.countplot(x='Sex', data = data_pd)   #Bar graph of sex(Female=1 and Male=0) distribution with positive depression "
      ],
      "execution_count": null,
      "outputs": [
        {
          "output_type": "execute_result",
          "data": {
            "text/plain": [
              "<matplotlib.axes._subplots.AxesSubplot at 0x23da292d908>"
            ]
          },
          "metadata": {
            "tags": []
          },
          "execution_count": 9
        },
        {
          "output_type": "display_data",
          "data": {
            "image/png": "[encoded data removed]",
            "text/plain": [
              "<Figure size 432x288 with 1 Axes>"
            ]
          },
          "metadata": {
            "tags": []
          }
        }
      ]
    },
    {
      "cell_type": "code",
      "metadata": {
        "id": "SW_9-z9Gox3v",
        "outputId": "0bb6d1ba-969e-41bf-e7f1-5082d583b2e7"
      },
      "source": [
        "sns.factorplot(x='Depressed', col='Married', kind='count', data= data_pd) #Bar graph of marital status with positive depression"
      ],
      "execution_count": null,
      "outputs": [
        {
          "output_type": "stream",
          "text": [
            "C:\\ProgramData\\Anaconda3\\lib\\site-packages\\seaborn\\categorical.py:3669: UserWarning: The `factorplot` function has been renamed to `catplot`. The original name will be removed in a future release. Please update your code. Note that the default `kind` in `factorplot` (`'point'`) has changed `'strip'` in `catplot`.\n",
            "  warnings.warn(msg)\n"
          ],
          "name": "stderr"
        },
        {
          "output_type": "execute_result",
          "data": {
            "text/plain": [
              "<seaborn.axisgrid.FacetGrid at 0x23da2998708>"
            ]
          },
          "metadata": {
            "tags": []
          },
          "execution_count": 10
        },
        {
          "output_type": "display_data",
          "data": {
            "image/png": "[encoded data removed]",
            "text/plain": [
              "<Figure size 720x360 with 2 Axes>"
            ]
          },
          "metadata": {
            "tags": []
          }
        }
      ]
    },
    {
      "cell_type": "markdown",
      "metadata": {
        "id": "8jdr-ximpT1b"
      },
      "source": [
        "## **Data Cleaning**"
      ]
    },
    {
      "cell_type": "code",
      "metadata": {
        "id": "yt8xjR8Cox3v",
        "outputId": "8d7c3713-82c2-47b2-8564-fb357f52cf43"
      },
      "source": [
        "#Data Cleaning\n",
        "data_pd.No_lasting_investment.isnull().sum() #Number of null columns in No_lasting_investment"
      ],
      "execution_count": null,
      "outputs": [
        {
          "output_type": "execute_result",
          "data": {
            "text/plain": [
              "20"
            ]
          },
          "metadata": {
            "tags": []
          },
          "execution_count": 11
        }
      ]
    },
    {
      "cell_type": "code",
      "metadata": {
        "id": "6_g-hZe5ox3w"
      },
      "source": [
        "data_pd['No_lasting_investment'].fillna(data_pd['No_lasting_investment'].median(), inplace=True)   #Fill null columns with median of column"
      ],
      "execution_count": null,
      "outputs": []
    },
    {
      "cell_type": "code",
      "metadata": {
        "id": "h6IVG2J5ox3w",
        "outputId": "e990bac7-846f-4f6f-b88d-fe4c375b0e69"
      },
      "source": [
        "data_pd.No_lasting_investment.isnull().sum() #Check; No null values"
      ],
      "execution_count": null,
      "outputs": [
        {
          "output_type": "execute_result",
          "data": {
            "text/plain": [
              "0"
            ]
          },
          "metadata": {
            "tags": []
          },
          "execution_count": 13
        }
      ]
    },
    {
      "cell_type": "code",
      "metadata": {
        "id": "QZH1z86box3w"
      },
      "source": [
        "data_pd['No_lasting_investment'] = data_pd['No_lasting_investment'].astype(int)     #To INT"
      ],
      "execution_count": null,
      "outputs": []
    },
    {
      "cell_type": "code",
      "metadata": {
        "id": "PCESHQ0jox3w",
        "outputId": "b7c2c39b-4e74-48c5-b630-ade5bd75878b"
      },
      "source": [
        "data_pd"
      ],
      "execution_count": null,
      "outputs": [
        {
          "output_type": "execute_result",
          "data": {
            "text/html": [
              "<div>\n",
              "<style scoped>\n",
              "    .dataframe tbody tr th:only-of-type {\n",
              "        vertical-align: middle;\n",
              "    }\n",
              "\n",
              "    .dataframe tbody tr th {\n",
              "        vertical-align: top;\n",
              "    }\n",
              "\n",
              "    .dataframe thead th {\n",
              "        text-align: right;\n",
              "    }\n",
              "</style>\n",
              "<table border=\"1\" class=\"dataframe\">\n",
              "  <thead>\n",
              "    <tr style=\"text-align: right;\">\n",
              "      <th></th>\n",
              "      <th>Survey_id</th>\n",
              "      <th>Sex</th>\n",
              "      <th>Age</th>\n",
              "      <th>Married</th>\n",
              "      <th>Number_children</th>\n",
              "      <th>Education_level</th>\n",
              "      <th>Living_expenses</th>\n",
              "      <th>Other_expenses</th>\n",
              "      <th>Incoming_salary</th>\n",
              "      <th>Labor_primary</th>\n",
              "      <th>Lasting_investment</th>\n",
              "      <th>No_lasting_investment</th>\n",
              "      <th>Depressed</th>\n",
              "    </tr>\n",
              "  </thead>\n",
              "  <tbody>\n",
              "    <tr>\n",
              "      <th>0</th>\n",
              "      <td>926</td>\n",
              "      <td>1</td>\n",
              "      <td>28</td>\n",
              "      <td>1</td>\n",
              "      <td>4</td>\n",
              "      <td>10</td>\n",
              "      <td>26692283</td>\n",
              "      <td>28203066</td>\n",
              "      <td>0</td>\n",
              "      <td>0</td>\n",
              "      <td>28411718</td>\n",
              "      <td>28292707</td>\n",
              "      <td>0</td>\n",
              "    </tr>\n",
              "    <tr>\n",
              "      <th>1</th>\n",
              "      <td>747</td>\n",
              "      <td>1</td>\n",
              "      <td>23</td>\n",
              "      <td>1</td>\n",
              "      <td>3</td>\n",
              "      <td>8</td>\n",
              "      <td>26692283</td>\n",
              "      <td>28203066</td>\n",
              "      <td>0</td>\n",
              "      <td>0</td>\n",
              "      <td>28411718</td>\n",
              "      <td>28292707</td>\n",
              "      <td>1</td>\n",
              "    </tr>\n",
              "    <tr>\n",
              "      <th>2</th>\n",
              "      <td>1190</td>\n",
              "      <td>1</td>\n",
              "      <td>22</td>\n",
              "      <td>1</td>\n",
              "      <td>3</td>\n",
              "      <td>9</td>\n",
              "      <td>26692283</td>\n",
              "      <td>28203066</td>\n",
              "      <td>0</td>\n",
              "      <td>0</td>\n",
              "      <td>28411718</td>\n",
              "      <td>28292707</td>\n",
              "      <td>0</td>\n",
              "    </tr>\n",
              "    <tr>\n",
              "      <th>3</th>\n",
              "      <td>1065</td>\n",
              "      <td>1</td>\n",
              "      <td>27</td>\n",
              "      <td>1</td>\n",
              "      <td>2</td>\n",
              "      <td>10</td>\n",
              "      <td>397715</td>\n",
              "      <td>44042267</td>\n",
              "      <td>0</td>\n",
              "      <td>0</td>\n",
              "      <td>7781123</td>\n",
              "      <td>69219765</td>\n",
              "      <td>0</td>\n",
              "    </tr>\n",
              "    <tr>\n",
              "      <th>4</th>\n",
              "      <td>806</td>\n",
              "      <td>0</td>\n",
              "      <td>59</td>\n",
              "      <td>0</td>\n",
              "      <td>4</td>\n",
              "      <td>10</td>\n",
              "      <td>80877619</td>\n",
              "      <td>74503502</td>\n",
              "      <td>1</td>\n",
              "      <td>1</td>\n",
              "      <td>20100562</td>\n",
              "      <td>43419447</td>\n",
              "      <td>0</td>\n",
              "    </tr>\n",
              "    <tr>\n",
              "      <th>...</th>\n",
              "      <td>...</td>\n",
              "      <td>...</td>\n",
              "      <td>...</td>\n",
              "      <td>...</td>\n",
              "      <td>...</td>\n",
              "      <td>...</td>\n",
              "      <td>...</td>\n",
              "      <td>...</td>\n",
              "      <td>...</td>\n",
              "      <td>...</td>\n",
              "      <td>...</td>\n",
              "      <td>...</td>\n",
              "      <td>...</td>\n",
              "    </tr>\n",
              "    <tr>\n",
              "      <th>1424</th>\n",
              "      <td>255</td>\n",
              "      <td>1</td>\n",
              "      <td>25</td>\n",
              "      <td>1</td>\n",
              "      <td>1</td>\n",
              "      <td>7</td>\n",
              "      <td>26692283</td>\n",
              "      <td>28203066</td>\n",
              "      <td>0</td>\n",
              "      <td>0</td>\n",
              "      <td>28411718</td>\n",
              "      <td>28292707</td>\n",
              "      <td>0</td>\n",
              "    </tr>\n",
              "    <tr>\n",
              "      <th>1425</th>\n",
              "      <td>547</td>\n",
              "      <td>1</td>\n",
              "      <td>28</td>\n",
              "      <td>1</td>\n",
              "      <td>4</td>\n",
              "      <td>10</td>\n",
              "      <td>10476722</td>\n",
              "      <td>71588707</td>\n",
              "      <td>0</td>\n",
              "      <td>0</td>\n",
              "      <td>1823477</td>\n",
              "      <td>47384361</td>\n",
              "      <td>0</td>\n",
              "    </tr>\n",
              "    <tr>\n",
              "      <th>1426</th>\n",
              "      <td>893</td>\n",
              "      <td>1</td>\n",
              "      <td>66</td>\n",
              "      <td>0</td>\n",
              "      <td>0</td>\n",
              "      <td>1</td>\n",
              "      <td>12545372</td>\n",
              "      <td>56534257</td>\n",
              "      <td>0</td>\n",
              "      <td>0</td>\n",
              "      <td>46444572</td>\n",
              "      <td>10454478</td>\n",
              "      <td>1</td>\n",
              "    </tr>\n",
              "    <tr>\n",
              "      <th>1427</th>\n",
              "      <td>363</td>\n",
              "      <td>1</td>\n",
              "      <td>51</td>\n",
              "      <td>1</td>\n",
              "      <td>1</td>\n",
              "      <td>12</td>\n",
              "      <td>26692283</td>\n",
              "      <td>28203066</td>\n",
              "      <td>0</td>\n",
              "      <td>0</td>\n",
              "      <td>28411718</td>\n",
              "      <td>28292707</td>\n",
              "      <td>0</td>\n",
              "    </tr>\n",
              "    <tr>\n",
              "      <th>1428</th>\n",
              "      <td>231</td>\n",
              "      <td>1</td>\n",
              "      <td>33</td>\n",
              "      <td>0</td>\n",
              "      <td>4</td>\n",
              "      <td>8</td>\n",
              "      <td>10289875</td>\n",
              "      <td>10730298</td>\n",
              "      <td>0</td>\n",
              "      <td>0</td>\n",
              "      <td>69642126</td>\n",
              "      <td>13012488</td>\n",
              "      <td>0</td>\n",
              "    </tr>\n",
              "  </tbody>\n",
              "</table>\n",
              "<p>1429 rows × 13 columns</p>\n",
              "</div>"
            ],
            "text/plain": [
              "      Survey_id  Sex  Age  Married  Number_children  Education_level  \\\n",
              "0           926    1   28        1                4               10   \n",
              "1           747    1   23        1                3                8   \n",
              "2          1190    1   22        1                3                9   \n",
              "3          1065    1   27        1                2               10   \n",
              "4           806    0   59        0                4               10   \n",
              "...         ...  ...  ...      ...              ...              ...   \n",
              "1424        255    1   25        1                1                7   \n",
              "1425        547    1   28        1                4               10   \n",
              "1426        893    1   66        0                0                1   \n",
              "1427        363    1   51        1                1               12   \n",
              "1428        231    1   33        0                4                8   \n",
              "\n",
              "      Living_expenses  Other_expenses  Incoming_salary  Labor_primary  \\\n",
              "0            26692283        28203066                0              0   \n",
              "1            26692283        28203066                0              0   \n",
              "2            26692283        28203066                0              0   \n",
              "3              397715        44042267                0              0   \n",
              "4            80877619        74503502                1              1   \n",
              "...               ...             ...              ...            ...   \n",
              "1424         26692283        28203066                0              0   \n",
              "1425         10476722        71588707                0              0   \n",
              "1426         12545372        56534257                0              0   \n",
              "1427         26692283        28203066                0              0   \n",
              "1428         10289875        10730298                0              0   \n",
              "\n",
              "      Lasting_investment  No_lasting_investment  Depressed  \n",
              "0               28411718               28292707          0  \n",
              "1               28411718               28292707          1  \n",
              "2               28411718               28292707          0  \n",
              "3                7781123               69219765          0  \n",
              "4               20100562               43419447          0  \n",
              "...                  ...                    ...        ...  \n",
              "1424            28411718               28292707          0  \n",
              "1425             1823477               47384361          0  \n",
              "1426            46444572               10454478          1  \n",
              "1427            28411718               28292707          0  \n",
              "1428            69642126               13012488          0  \n",
              "\n",
              "[1429 rows x 13 columns]"
            ]
          },
          "metadata": {
            "tags": []
          },
          "execution_count": 15
        }
      ]
    },
    {
      "cell_type": "code",
      "metadata": {
        "id": "7Jc4Rytyox3x",
        "outputId": "81a74be5-59c8-4354-e88a-14e2c5314e10"
      },
      "source": [
        "data_pd = data_pd.drop(['Survey_id'], axis=1)   #Drop unecessary column: Survey_id\n",
        "data_pd.head(5)"
      ],
      "execution_count": null,
      "outputs": [
        {
          "output_type": "execute_result",
          "data": {
            "text/html": [
              "<div>\n",
              "<style scoped>\n",
              "    .dataframe tbody tr th:only-of-type {\n",
              "        vertical-align: middle;\n",
              "    }\n",
              "\n",
              "    .dataframe tbody tr th {\n",
              "        vertical-align: top;\n",
              "    }\n",
              "\n",
              "    .dataframe thead th {\n",
              "        text-align: right;\n",
              "    }\n",
              "</style>\n",
              "<table border=\"1\" class=\"dataframe\">\n",
              "  <thead>\n",
              "    <tr style=\"text-align: right;\">\n",
              "      <th></th>\n",
              "      <th>Sex</th>\n",
              "      <th>Age</th>\n",
              "      <th>Married</th>\n",
              "      <th>Number_children</th>\n",
              "      <th>Education_level</th>\n",
              "      <th>Living_expenses</th>\n",
              "      <th>Other_expenses</th>\n",
              "      <th>Incoming_salary</th>\n",
              "      <th>Labor_primary</th>\n",
              "      <th>Lasting_investment</th>\n",
              "      <th>No_lasting_investment</th>\n",
              "      <th>Depressed</th>\n",
              "    </tr>\n",
              "  </thead>\n",
              "  <tbody>\n",
              "    <tr>\n",
              "      <th>0</th>\n",
              "      <td>1</td>\n",
              "      <td>28</td>\n",
              "      <td>1</td>\n",
              "      <td>4</td>\n",
              "      <td>10</td>\n",
              "      <td>26692283</td>\n",
              "      <td>28203066</td>\n",
              "      <td>0</td>\n",
              "      <td>0</td>\n",
              "      <td>28411718</td>\n",
              "      <td>28292707</td>\n",
              "      <td>0</td>\n",
              "    </tr>\n",
              "    <tr>\n",
              "      <th>1</th>\n",
              "      <td>1</td>\n",
              "      <td>23</td>\n",
              "      <td>1</td>\n",
              "      <td>3</td>\n",
              "      <td>8</td>\n",
              "      <td>26692283</td>\n",
              "      <td>28203066</td>\n",
              "      <td>0</td>\n",
              "      <td>0</td>\n",
              "      <td>28411718</td>\n",
              "      <td>28292707</td>\n",
              "      <td>1</td>\n",
              "    </tr>\n",
              "    <tr>\n",
              "      <th>2</th>\n",
              "      <td>1</td>\n",
              "      <td>22</td>\n",
              "      <td>1</td>\n",
              "      <td>3</td>\n",
              "      <td>9</td>\n",
              "      <td>26692283</td>\n",
              "      <td>28203066</td>\n",
              "      <td>0</td>\n",
              "      <td>0</td>\n",
              "      <td>28411718</td>\n",
              "      <td>28292707</td>\n",
              "      <td>0</td>\n",
              "    </tr>\n",
              "    <tr>\n",
              "      <th>3</th>\n",
              "      <td>1</td>\n",
              "      <td>27</td>\n",
              "      <td>1</td>\n",
              "      <td>2</td>\n",
              "      <td>10</td>\n",
              "      <td>397715</td>\n",
              "      <td>44042267</td>\n",
              "      <td>0</td>\n",
              "      <td>0</td>\n",
              "      <td>7781123</td>\n",
              "      <td>69219765</td>\n",
              "      <td>0</td>\n",
              "    </tr>\n",
              "    <tr>\n",
              "      <th>4</th>\n",
              "      <td>0</td>\n",
              "      <td>59</td>\n",
              "      <td>0</td>\n",
              "      <td>4</td>\n",
              "      <td>10</td>\n",
              "      <td>80877619</td>\n",
              "      <td>74503502</td>\n",
              "      <td>1</td>\n",
              "      <td>1</td>\n",
              "      <td>20100562</td>\n",
              "      <td>43419447</td>\n",
              "      <td>0</td>\n",
              "    </tr>\n",
              "  </tbody>\n",
              "</table>\n",
              "</div>"
            ],
            "text/plain": [
              "   Sex  Age  Married  Number_children  Education_level  Living_expenses  \\\n",
              "0    1   28        1                4               10         26692283   \n",
              "1    1   23        1                3                8         26692283   \n",
              "2    1   22        1                3                9         26692283   \n",
              "3    1   27        1                2               10           397715   \n",
              "4    0   59        0                4               10         80877619   \n",
              "\n",
              "   Other_expenses  Incoming_salary  Labor_primary  Lasting_investment  \\\n",
              "0        28203066                0              0            28411718   \n",
              "1        28203066                0              0            28411718   \n",
              "2        28203066                0              0            28411718   \n",
              "3        44042267                0              0             7781123   \n",
              "4        74503502                1              1            20100562   \n",
              "\n",
              "   No_lasting_investment  Depressed  \n",
              "0               28292707          0  \n",
              "1               28292707          1  \n",
              "2               28292707          0  \n",
              "3               69219765          0  \n",
              "4               43419447          0  "
            ]
          },
          "metadata": {
            "tags": []
          },
          "execution_count": 16
        }
      ]
    },
    {
      "cell_type": "code",
      "metadata": {
        "id": "ZTY6winUox3x"
      },
      "source": [
        "X = data_pd.copy() #Copy of dataset assigned to varibale X"
      ],
      "execution_count": null,
      "outputs": []
    },
    {
      "cell_type": "code",
      "metadata": {
        "id": "yamP-5Clox3x",
        "outputId": "46928a6f-04c8-4aa0-87b5-4a424b612ec3"
      },
      "source": [
        "X.head() "
      ],
      "execution_count": null,
      "outputs": [
        {
          "output_type": "execute_result",
          "data": {
            "text/html": [
              "<div>\n",
              "<style scoped>\n",
              "    .dataframe tbody tr th:only-of-type {\n",
              "        vertical-align: middle;\n",
              "    }\n",
              "\n",
              "    .dataframe tbody tr th {\n",
              "        vertical-align: top;\n",
              "    }\n",
              "\n",
              "    .dataframe thead th {\n",
              "        text-align: right;\n",
              "    }\n",
              "</style>\n",
              "<table border=\"1\" class=\"dataframe\">\n",
              "  <thead>\n",
              "    <tr style=\"text-align: right;\">\n",
              "      <th></th>\n",
              "      <th>Sex</th>\n",
              "      <th>Age</th>\n",
              "      <th>Married</th>\n",
              "      <th>Number_children</th>\n",
              "      <th>Education_level</th>\n",
              "      <th>Living_expenses</th>\n",
              "      <th>Other_expenses</th>\n",
              "      <th>Incoming_salary</th>\n",
              "      <th>Labor_primary</th>\n",
              "      <th>Lasting_investment</th>\n",
              "      <th>No_lasting_investment</th>\n",
              "      <th>Depressed</th>\n",
              "    </tr>\n",
              "  </thead>\n",
              "  <tbody>\n",
              "    <tr>\n",
              "      <th>0</th>\n",
              "      <td>1</td>\n",
              "      <td>28</td>\n",
              "      <td>1</td>\n",
              "      <td>4</td>\n",
              "      <td>10</td>\n",
              "      <td>26692283</td>\n",
              "      <td>28203066</td>\n",
              "      <td>0</td>\n",
              "      <td>0</td>\n",
              "      <td>28411718</td>\n",
              "      <td>28292707</td>\n",
              "      <td>0</td>\n",
              "    </tr>\n",
              "    <tr>\n",
              "      <th>1</th>\n",
              "      <td>1</td>\n",
              "      <td>23</td>\n",
              "      <td>1</td>\n",
              "      <td>3</td>\n",
              "      <td>8</td>\n",
              "      <td>26692283</td>\n",
              "      <td>28203066</td>\n",
              "      <td>0</td>\n",
              "      <td>0</td>\n",
              "      <td>28411718</td>\n",
              "      <td>28292707</td>\n",
              "      <td>1</td>\n",
              "    </tr>\n",
              "    <tr>\n",
              "      <th>2</th>\n",
              "      <td>1</td>\n",
              "      <td>22</td>\n",
              "      <td>1</td>\n",
              "      <td>3</td>\n",
              "      <td>9</td>\n",
              "      <td>26692283</td>\n",
              "      <td>28203066</td>\n",
              "      <td>0</td>\n",
              "      <td>0</td>\n",
              "      <td>28411718</td>\n",
              "      <td>28292707</td>\n",
              "      <td>0</td>\n",
              "    </tr>\n",
              "    <tr>\n",
              "      <th>3</th>\n",
              "      <td>1</td>\n",
              "      <td>27</td>\n",
              "      <td>1</td>\n",
              "      <td>2</td>\n",
              "      <td>10</td>\n",
              "      <td>397715</td>\n",
              "      <td>44042267</td>\n",
              "      <td>0</td>\n",
              "      <td>0</td>\n",
              "      <td>7781123</td>\n",
              "      <td>69219765</td>\n",
              "      <td>0</td>\n",
              "    </tr>\n",
              "    <tr>\n",
              "      <th>4</th>\n",
              "      <td>0</td>\n",
              "      <td>59</td>\n",
              "      <td>0</td>\n",
              "      <td>4</td>\n",
              "      <td>10</td>\n",
              "      <td>80877619</td>\n",
              "      <td>74503502</td>\n",
              "      <td>1</td>\n",
              "      <td>1</td>\n",
              "      <td>20100562</td>\n",
              "      <td>43419447</td>\n",
              "      <td>0</td>\n",
              "    </tr>\n",
              "  </tbody>\n",
              "</table>\n",
              "</div>"
            ],
            "text/plain": [
              "   Sex  Age  Married  Number_children  Education_level  Living_expenses  \\\n",
              "0    1   28        1                4               10         26692283   \n",
              "1    1   23        1                3                8         26692283   \n",
              "2    1   22        1                3                9         26692283   \n",
              "3    1   27        1                2               10           397715   \n",
              "4    0   59        0                4               10         80877619   \n",
              "\n",
              "   Other_expenses  Incoming_salary  Labor_primary  Lasting_investment  \\\n",
              "0        28203066                0              0            28411718   \n",
              "1        28203066                0              0            28411718   \n",
              "2        28203066                0              0            28411718   \n",
              "3        44042267                0              0             7781123   \n",
              "4        74503502                1              1            20100562   \n",
              "\n",
              "   No_lasting_investment  Depressed  \n",
              "0               28292707          0  \n",
              "1               28292707          1  \n",
              "2               28292707          0  \n",
              "3               69219765          0  \n",
              "4               43419447          0  "
            ]
          },
          "metadata": {
            "tags": []
          },
          "execution_count": 18
        }
      ]
    },
    {
      "cell_type": "markdown",
      "metadata": {
        "id": "5-RgBquzpalU"
      },
      "source": [
        "## **Data Mining**\r\n",
        "### *KMeans, Naive Bayes , Logistic Regression and Random Forest*"
      ]
    },
    {
      "cell_type": "markdown",
      "metadata": {
        "id": "inI-0DEdptqZ"
      },
      "source": [
        "### **KMeans**"
      ]
    },
    {
      "cell_type": "code",
      "metadata": {
        "id": "5S2xhYeVox3x",
        "outputId": "5fc11a73-0018-4984-8bd5-9a86a25af5be"
      },
      "source": [
        "#Importing Packages \n",
        "from sklearn.cluster import KMeans                                    #KMeans clustering package\n",
        "from sklearn.metrics import silhouette_samples, silhouette_score      #Metrics of evaluation\n",
        "\n",
        "n_clusters = 1                                                        #Partition = 1\n",
        "km = KMeans( n_clusters=n_clusters)\n",
        "km.fit(X)                                                             #Function km fits X\n",
        "y = km.predict(X)                                                     #Prediction\n",
        "X.shape                                                               #Prints columns and rows"
      ],
      "execution_count": null,
      "outputs": [
        {
          "output_type": "execute_result",
          "data": {
            "text/plain": [
              "(1429, 12)"
            ]
          },
          "metadata": {
            "tags": []
          },
          "execution_count": 19
        }
      ]
    },
    {
      "cell_type": "code",
      "metadata": {
        "id": "HYhvcVqNox3y"
      },
      "source": [
        "pd.Series(y).value_counts()                                           #Calculates the size of Cluster"
      ],
      "execution_count": null,
      "outputs": []
    },
    {
      "cell_type": "code",
      "metadata": {
        "id": "RiC97yIBox3y",
        "outputId": "dbec80f3-c738-45cc-d38e-3d573b8f9d9d"
      },
      "source": [
        "km.cluster_centers_                                                   #List the centroids of the clusters"
      ],
      "execution_count": null,
      "outputs": [
        {
          "output_type": "execute_result",
          "data": {
            "text/plain": [
              "array([[9.18124563e-01, 3.47774668e+01, 7.72568230e-01, 2.88313506e+00,\n",
              "        8.68719384e+00, 3.24825655e+07, 3.36663245e+07, 1.79846046e-01,\n",
              "        2.13435969e-01, 3.29922151e+07, 3.35295168e+07, 1.66550035e-01]])"
            ]
          },
          "metadata": {
            "tags": []
          },
          "execution_count": 21
        }
      ]
    },
    {
      "cell_type": "code",
      "metadata": {
        "id": "-a65cfXkox3y"
      },
      "source": [
        "# We decide to select some columns to separate the data and We can print the clusters very well created.\n",
        "\n",
        "X_filtered = X.filter(['Living_expenses','Other_expenses','Lasting_investment','No_lasting_investmen']).values+15"
      ],
      "execution_count": null,
      "outputs": []
    },
    {
      "cell_type": "code",
      "metadata": {
        "id": "XQyLGIY5ox3y",
        "outputId": "1f10dec7-95fa-41fe-fc95-12e72f47b5fc"
      },
      "source": [
        "n_clusters = 3\n",
        "\n",
        "km = KMeans( n_clusters=n_clusters)\n",
        "km.fit(X_filtered)\n",
        "y_filtered = km.predict(X_filtered)\n",
        "\n",
        "print(X_filtered.shape)\n",
        "print(y_filtered.shape)\n",
        "\n",
        "km.cluster_centers_                                                 #Print the lists of the centroids"
      ],
      "execution_count": null,
      "outputs": [
        {
          "output_type": "stream",
          "text": [
            "(1429, 3)\n",
            "(1429,)\n"
          ],
          "name": "stdout"
        },
        {
          "output_type": "execute_result",
          "data": {
            "text/plain": [
              "array([[30548534.09130436, 73912270.53478266, 38179768.46956524],\n",
              "       [23974383.68704659, 25325746.676684  , 30183115.85181354],\n",
              "       [69470788.32478629, 28504407.3076923 , 39477962.57264961]])"
            ]
          },
          "metadata": {
            "tags": []
          },
          "execution_count": 23
        }
      ]
    },
    {
      "cell_type": "code",
      "metadata": {
        "id": "mp3tKrjrox3y",
        "outputId": "99ab0aa6-468d-4cb0-91b2-8085be5fb811"
      },
      "source": [
        "# print the groups of the centroids\n",
        "import numpy as np\n",
        "cmap = plt.cm.plasma\n",
        "\n",
        "cmap((y_filtered*255./(n_clusters-1)).astype(int))\n",
        "for i in np.unique(y_filtered):\n",
        "    cmap = plt.cm.bwr\n",
        "    col = cmap((i*255./(n_clusters-1)).astype(int))\n",
        "    Xr = X_filtered[y_filtered==i]\n",
        "    plt.scatter(Xr[:,0], Xr[:,1], color=col, label=\"cluster %d\"%i, alpha=.5)\n",
        "plt.scatter(km.cluster_centers_[:,0], km.cluster_centers_[:,1],marker=\"x\", lw=5, s=200, color=\"black\")\n",
        "plt.legend()"
      ],
      "execution_count": null,
      "outputs": [
        {
          "output_type": "execute_result",
          "data": {
            "text/plain": [
              "<matplotlib.legend.Legend at 0x23da34796c8>"
            ]
          },
          "metadata": {
            "tags": []
          },
          "execution_count": 24
        },
        {
          "output_type": "display_data",
          "data": {
            "image/png": "[encoded data removed]",
            "text/plain": [
              "<Figure size 432x288 with 1 Axes>"
            ]
          },
          "metadata": {
            "tags": []
          }
        }
      ]
    },
    {
      "cell_type": "code",
      "metadata": {
        "id": "VmSK6ph-ox3z",
        "outputId": "5350e170-520f-424d-c8b4-c1b1f788dd31"
      },
      "source": [
        "X_filtered_2 = X.filter(['Age', 'Number_children', 'Education_level']).values+15\n",
        "\n",
        "\n",
        "def plot_kmeans(n_clusters):\n",
        "    km = KMeans( n_clusters=n_clusters)\n",
        "    km.fit(X_filtered_2)\n",
        "    y_filtered_2 = km.predict(X_filtered_2)\n",
        "\n",
        "    cmap = plt.cm.plasma\n",
        "\n",
        "    cmap((y_filtered*255./(n_clusters-1)).astype(int))\n",
        "    for i in np.unique(y_filtered_2):\n",
        "        cmap = plt.cm.bwr\n",
        "        col = cmap((i*255./(n_clusters-1)).astype(int))\n",
        "        Xr = X_filtered_2[y_filtered_2==i]\n",
        "        plt.scatter(Xr[:,0], Xr[:,1], color=col, label=\"cluster %d\"%i, alpha=.5)\n",
        "    plt.scatter(km.cluster_centers_[:,0], km.cluster_centers_[:,1],marker=\"x\", lw=5, s=200, color=\"black\")\n",
        "    plt.legend()\n",
        "\n",
        "plot_kmeans(3)"
      ],
      "execution_count": null,
      "outputs": [
        {
          "output_type": "display_data",
          "data": {
            "image/png": "[encoded data removed]",
            "text/plain": [
              "<Figure size 432x288 with 1 Axes>"
            ]
          },
          "metadata": {
            "tags": []
          }
        }
      ]
    },
    {
      "cell_type": "code",
      "metadata": {
        "id": "AOLX6_F3ox3z",
        "outputId": "3eb170ec-7f2c-4048-d54c-f7c705f59b1b"
      },
      "source": [
        "plot_kmeans(8)"
      ],
      "execution_count": null,
      "outputs": [
        {
          "output_type": "display_data",
          "data": {
            "image/png": "[encoded data removed]",
            "text/plain": [
              "<Figure size 432x288 with 1 Axes>"
            ]
          },
          "metadata": {
            "tags": []
          }
        }
      ]
    },
    {
      "cell_type": "code",
      "metadata": {
        "id": "cNzDgYJoox3z"
      },
      "source": [
        "from sklearn.metrics import silhouette_samples, silhouette_score"
      ],
      "execution_count": null,
      "outputs": []
    },
    {
      "cell_type": "code",
      "metadata": {
        "id": "B4y8SlE-ox3z",
        "outputId": "175df656-6bee-4acf-ca59-7a27567cf625"
      },
      "source": [
        "from sklearn.metrics import precision_score, recall_score, confusion_matrix, f1_score\n",
        "from sklearn.utils.multiclass import unique_labels\n",
        "\n",
        "X_filtered_3 = X.copy()\n",
        "\n",
        "y_true = X_filtered_3['Depressed']\n",
        "class_names = ['Depressed','No Depressed']\n",
        "\n",
        "km = KMeans(n_clusters=2)\n",
        "km = km.fit(X_filtered_2)\n",
        "y_pred = km.labels_\n",
        "\n",
        "cm = confusion_matrix(y_true, y_pred)\n",
        "print(\"Confusion Matrix\")\n",
        "print(cm)"
      ],
      "execution_count": null,
      "outputs": [
        {
          "output_type": "stream",
          "text": [
            "Confusion Matrix\n",
            "[[911 280]\n",
            " [160  78]]\n"
          ],
          "name": "stdout"
        }
      ]
    },
    {
      "cell_type": "code",
      "metadata": {
        "id": "zqcWYILQox30"
      },
      "source": [
        "def compute_purity(confusion_matrix):\n",
        "    maximus = []\n",
        "    purity_score = 0\n",
        "    for i in range(0,confusion_matrix.shape[0]):\n",
        "        maximus.append(np.max(cm[i]))\n",
        "    purity_score = np.sum(maximus)/np.sum(confusion_matrix)\n",
        "    return purity_score"
      ],
      "execution_count": null,
      "outputs": []
    },
    {
      "cell_type": "code",
      "metadata": {
        "id": "c0H9KnODox31",
        "outputId": "f242991d-8908-456f-d3ff-1e7e05be9dc7"
      },
      "source": [
        "purity_score= compute_purity(cm)\n",
        "print(\"The purity calculated is: \", purity_score)"
      ],
      "execution_count": null,
      "outputs": [
        {
          "output_type": "stream",
          "text": [
            "The purity calculated is:  0.7494751574527642\n"
          ],
          "name": "stdout"
        }
      ]
    },
    {
      "cell_type": "code",
      "metadata": {
        "id": "ZXuhA_0kox31",
        "outputId": "587a20a3-febc-4c1c-b27d-70ddd03aeac9"
      },
      "source": [
        "#Compute & print precision, recall and f1 score\n",
        "precision = precision_score(y_true, y_pred, average='macro') \n",
        "recall = recall_score(y_true, y_pred, average='macro')  \n",
        "f1score = f1_score(y_true, y_pred, average='macro')  \n",
        "\n",
        "print(\"The Precision calculated was \", precision)\n",
        "print(\"The Recall calculated was: \", recall)\n",
        "print(\"The F1-Score calculated was: \", f1score)"
      ],
      "execution_count": null,
      "outputs": [
        {
          "output_type": "stream",
          "text": [
            "The Precision calculated was  0.534242002201253\n",
            "The Recall calculated was:  0.5463172674611406\n",
            "The F1-Score calculated was:  0.5336134204451723\n"
          ],
          "name": "stdout"
        }
      ]
    },
    {
      "cell_type": "code",
      "metadata": {
        "id": "SkqhddIEox31"
      },
      "source": [
        "X_copy = X.copy()\n",
        "y = X.Depressed.values\n",
        "X = X.values"
      ],
      "execution_count": null,
      "outputs": []
    },
    {
      "cell_type": "markdown",
      "metadata": {
        "id": "poK2K_koqEha"
      },
      "source": [
        "### **Naive Bayes**"
      ]
    },
    {
      "cell_type": "code",
      "metadata": {
        "id": "gv7Xskfiox31"
      },
      "source": [
        "#Split data in 70% training and 30% testing \n",
        "from sklearn.model_selection import train_test_split\n",
        "\n",
        "X_train_bayes, X_test_bayes, y_train_bayes, y_test_bayes = train_test_split(X, y,\n",
        "                                                    test_size=.3)"
      ],
      "execution_count": null,
      "outputs": []
    },
    {
      "cell_type": "code",
      "metadata": {
        "id": "qhrqEDoHox31",
        "outputId": "75b46736-d222-4df1-dba7-abc824c8e886"
      },
      "source": [
        "#Import Gaussian Naive Bayes model\n",
        "from sklearn.naive_bayes import GaussianNB\n",
        "\n",
        "#Create a Gaussian Classifier\n",
        "model = GaussianNB()\n",
        "model.fit(X_train_bayes, y_train_bayes)"
      ],
      "execution_count": null,
      "outputs": [
        {
          "output_type": "execute_result",
          "data": {
            "text/plain": [
              "GaussianNB(priors=None, var_smoothing=1e-09)"
            ]
          },
          "metadata": {
            "tags": []
          },
          "execution_count": 35
        }
      ]
    },
    {
      "cell_type": "code",
      "metadata": {
        "id": "qm1i1_y_ox32"
      },
      "source": [
        "from sklearn.metrics import precision_score, recall_score, confusion_matrix, f1_score, classification_report\n",
        "y_pred_bayes = model.predict(X_test_bayes)"
      ],
      "execution_count": null,
      "outputs": []
    },
    {
      "cell_type": "code",
      "metadata": {
        "id": "sP3G9fKuox32",
        "outputId": "a06a0e0c-b5ed-4cae-c4b3-76cda73bb010"
      },
      "source": [
        "cm = confusion_matrix(y_test_bayes, y_pred_bayes)\n",
        "print(cm)\n",
        "# Print the precision, recall and f1 score\n",
        "print(classification_report(y_test_bayes, y_pred_bayes, digits=2))"
      ],
      "execution_count": null,
      "outputs": [
        {
          "output_type": "stream",
          "text": [
            "[[357   0]\n",
            " [ 72   0]]\n",
            "              precision    recall  f1-score   support\n",
            "\n",
            "           0       0.83      1.00      0.91       357\n",
            "           1       0.00      0.00      0.00        72\n",
            "\n",
            "    accuracy                           0.83       429\n",
            "   macro avg       0.42      0.50      0.45       429\n",
            "weighted avg       0.69      0.83      0.76       429\n",
            "\n"
          ],
          "name": "stdout"
        },
        {
          "output_type": "stream",
          "text": [
            "C:\\ProgramData\\Anaconda3\\lib\\site-packages\\sklearn\\metrics\\_classification.py:1272: UndefinedMetricWarning: Precision and F-score are ill-defined and being set to 0.0 in labels with no predicted samples. Use `zero_division` parameter to control this behavior.\n",
            "  _warn_prf(average, modifier, msg_start, len(result))\n"
          ],
          "name": "stderr"
        }
      ]
    },
    {
      "cell_type": "markdown",
      "metadata": {
        "id": "6k42RgYqqIIs"
      },
      "source": [
        "### **Logistic Regression**"
      ]
    },
    {
      "cell_type": "code",
      "metadata": {
        "id": "gEnHSnB1ox32"
      },
      "source": [
        "#Import package\n",
        "from sklearn.linear_model import LogisticRegression                   #Logistic Regression Package"
      ],
      "execution_count": null,
      "outputs": []
    },
    {
      "cell_type": "code",
      "metadata": {
        "id": "LHv4LR9Kox32"
      },
      "source": [
        "classifier = LogisticRegression(class_weight=\"balanced\", random_state=1, max_iter=1000, solver=\"liblinear\")\n",
        "\n",
        "classifier.fit(X_train_bayes, y_train_bayes)\n",
        "y_pred_logistic = classifier.predict(X_test_bayes)\n",
        "score = classifier.score(X_test_bayes, y_test_bayes)"
      ],
      "execution_count": null,
      "outputs": []
    },
    {
      "cell_type": "code",
      "metadata": {
        "id": "qkJSIYwhox32",
        "outputId": "5e77b058-486e-4eee-bbea-1e2e155ee8de"
      },
      "source": [
        "cm = confusion_matrix(y_test_bayes, y_pred_logistic)\n",
        "print(cm)\n",
        "# Print the precision, recall and f1 score\n",
        "print(classification_report(y_test_bayes, y_pred_logistic, digits=2))"
      ],
      "execution_count": null,
      "outputs": [
        {
          "output_type": "stream",
          "text": [
            "[[232 125]\n",
            " [ 46  26]]\n",
            "              precision    recall  f1-score   support\n",
            "\n",
            "           0       0.83      0.65      0.73       357\n",
            "           1       0.17      0.36      0.23        72\n",
            "\n",
            "    accuracy                           0.60       429\n",
            "   macro avg       0.50      0.51      0.48       429\n",
            "weighted avg       0.72      0.60      0.65       429\n",
            "\n"
          ],
          "name": "stdout"
        }
      ]
    },
    {
      "cell_type": "markdown",
      "metadata": {
        "id": "RsxW2mqIqPXk"
      },
      "source": [
        "### **Random Forest**"
      ]
    },
    {
      "cell_type": "code",
      "metadata": {
        "id": "_92q1PMbox33"
      },
      "source": [
        "#Import package \n",
        "from sklearn.ensemble import RandomForestClassifier                   #Random Forest Classsifier package\n"
      ],
      "execution_count": null,
      "outputs": []
    },
    {
      "cell_type": "code",
      "metadata": {
        "id": "3t4ivSnsox33"
      },
      "source": [
        "from sklearn.model_selection import train_test_split\n",
        "X_train, X_test, y_train, y_test = train_test_split(X, y, test_size = 0.25, random_state = 0)"
      ],
      "execution_count": null,
      "outputs": []
    },
    {
      "cell_type": "code",
      "metadata": {
        "id": "Lm2t9Qioox33"
      },
      "source": [
        "rf = RandomForestClassifier()"
      ],
      "execution_count": null,
      "outputs": []
    },
    {
      "cell_type": "code",
      "metadata": {
        "id": "ll4YQck_ox33",
        "outputId": "4550df36-df6f-4984-9789-322ae3591b45"
      },
      "source": [
        "rf.fit(X_train,y_train)"
      ],
      "execution_count": null,
      "outputs": [
        {
          "output_type": "execute_result",
          "data": {
            "text/plain": [
              "RandomForestClassifier(bootstrap=True, ccp_alpha=0.0, class_weight=None,\n",
              "                       criterion='gini', max_depth=None, max_features='auto',\n",
              "                       max_leaf_nodes=None, max_samples=None,\n",
              "                       min_impurity_decrease=0.0, min_impurity_split=None,\n",
              "                       min_samples_leaf=1, min_samples_split=2,\n",
              "                       min_weight_fraction_leaf=0.0, n_estimators=100,\n",
              "                       n_jobs=None, oob_score=False, random_state=None,\n",
              "                       verbose=0, warm_start=False)"
            ]
          },
          "metadata": {
            "tags": []
          },
          "execution_count": 44
        }
      ]
    },
    {
      "cell_type": "code",
      "metadata": {
        "id": "dALKDBQBox33"
      },
      "source": [
        "y_pred = rf.predict(X_test)"
      ],
      "execution_count": null,
      "outputs": []
    },
    {
      "cell_type": "code",
      "metadata": {
        "id": "eOf1wrT8ox33",
        "outputId": "960b94e7-de46-4618-f6fd-58f0798114b5"
      },
      "source": [
        "cm = confusion_matrix(y_test, y_pred)\n",
        "print(cm)"
      ],
      "execution_count": null,
      "outputs": [
        {
          "output_type": "stream",
          "text": [
            "[[299   0]\n",
            " [  0  59]]\n"
          ],
          "name": "stdout"
        }
      ]
    },
    {
      "cell_type": "code",
      "metadata": {
        "id": "1d0zdwrDox34",
        "outputId": "86d166f6-8d0b-4de5-ae05-b437edb6262c"
      },
      "source": [
        "#Print precision, recall and f1 score\n",
        "report = classification_report(y_test, y_pred)\n",
        "print(report)"
      ],
      "execution_count": null,
      "outputs": [
        {
          "output_type": "stream",
          "text": [
            "              precision    recall  f1-score   support\n",
            "\n",
            "           0       1.00      1.00      1.00       299\n",
            "           1       1.00      1.00      1.00        59\n",
            "\n",
            "    accuracy                           1.00       358\n",
            "   macro avg       1.00      1.00      1.00       358\n",
            "weighted avg       1.00      1.00      1.00       358\n",
            "\n"
          ],
          "name": "stdout"
        }
      ]
    }
  ]
}